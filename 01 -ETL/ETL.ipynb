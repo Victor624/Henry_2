{
 "cells": [
  {
   "cell_type": "code",
   "execution_count": 1,
   "metadata": {},
   "outputs": [
    {
     "data": {
      "text/plain": [
       "{'gecko_says': '(V3) To the Moon!'}"
      ]
     },
     "execution_count": 1,
     "metadata": {},
     "output_type": "execute_result"
    }
   ],
   "source": [
    "#import plotly.express as px\n",
    "import matplotlib.pyplot as plt\n",
    "import pandas as pd\n",
    "from pycoingecko import CoinGeckoAPI\n",
    "import seaborn as sns\n",
    "import datetime as dt\n",
    "import ast\n",
    "pd.set_option('display.max_columns', None) \n",
    "cg = CoinGeckoAPI()\n",
    "cg.ping()"
   ]
  },
  {
   "cell_type": "markdown",
   "metadata": {},
   "source": [
    "## 01 - Capitalizacion"
   ]
  },
  {
   "cell_type": "code",
   "execution_count": 2,
   "metadata": {},
   "outputs": [],
   "source": [
    "#Generamos el Dataset para ver los mayor capitalizacion de las monedas\n",
    "mayor_cap = pd.DataFrame.from_dict(cg.get_coins_markets(vs_currency = 'usd')).reset_index(drop=True)\n",
    "mayor_cap=mayor_cap.sort_values(by=\"market_cap\", ascending=False)\n",
    "mayor_cap=mayor_cap.iloc[0:10]\n",
    "mayor_cap=mayor_cap[[\"symbol\",\"name\",\"market_cap\"]]\n",
    "mayor_cap.to_csv(\"../00 - DATA/mayor_cap.csv\",index=False)\n"
   ]
  },
  {
   "cell_type": "code",
   "execution_count": 3,
   "metadata": {},
   "outputs": [],
   "source": [
    "# Generamos una una funcion para extraer los datos que estan en UNIX y convertirlos a fecha.-\n",
    "\n",
    "def sacar(x):\n",
    "    x = x.translate(str.maketrans('', '', \"[\"))\n",
    "    x = x.translate(str.maketrans('', '', \"]\"))\n",
    "    fila=x\n",
    "    return fila\n",
    "\n",
    "#Llamo a la API y genero la transformacion\n",
    "\n",
    "def cambio(moneda):\n",
    "    globalData =  cg.get_coin_market_chart_by_id(id = moneda, \n",
    "                               vs_currency = 'usd',\n",
    "                               days = '1825')\n",
    "                               \n",
    "    lista = pd.DataFrame.from_dict(globalData ).reset_index(drop=True)\n",
    "    moneda=str(moneda)\n",
    "    lista=lista[\"market_caps\"]\n",
    "    df=[]\n",
    "    for i in lista:\n",
    "        i=str(i)\n",
    "        a=sacar(i)\n",
    "        df.append(a)\n",
    "    #En esta funcion separo y convierto los datos en varibles para poder trabajarcon ellos\n",
    "    df=pd.DataFrame(df)\n",
    "    df[['Fecha', 'Market_Cap']] = df[0].str.split(',', expand=True)\n",
    "    df=df[['Fecha', 'Market_Cap']]\n",
    "    df[\"Fecha\"]=df[\"Fecha\"].astype(float) \n",
    "    #Convierto en Fecha los Datos en UNIX\n",
    "    df[\"Fecha\"]=df[\"Fecha\"].apply(lambda x: dt.datetime.fromtimestamp(x/1000).strftime('%m-%d-%Y' ))\n",
    "    df[\"Fecha\"]=pd.to_datetime(df[\"Fecha\"])\n",
    "    df.insert(0, 'Moneda',moneda)\n",
    "    #Convierto los datos Faltantes en la media de la variable anterior y la posterior\n",
    "    df[\"Market_Cap\"]=df[\"Market_Cap\"].replace(' None', float('nan'))\n",
    "    df[\"Market_Cap\"]=df[\"Market_Cap\"].fillna(method='ffill').fillna(method='bfill')\n",
    "    df[\"Market_Cap\"]=df[\"Market_Cap\"].astype(float)\n",
    "        \n",
    "    return df\n"
   ]
  },
  {
   "cell_type": "code",
   "execution_count": 4,
   "metadata": {},
   "outputs": [],
   "source": [
    "#Genero los dataframe de todas las monedas y los concateno en un solo CSV\n",
    "\n",
    "bitcoin=cambio(\"bitcoin\")\n",
    "ethereum=cambio(\"ethereum\")\n",
    "tether=cambio(\"tether\")\n",
    "binancecoin=cambio(\"binancecoin\")\n",
    "ripple=cambio(\"ripple\")\n",
    "usdcoin=cambio(\"usd-coin\")\n",
    "stakedether=cambio(\"staked-ether\")\n",
    "cardano=cambio(\"cardano\")\n",
    "dogecoin=cambio(\"dogecoin\")\n",
    "solana=cambio(\"solana\")\n",
    "Moneda_cap_hist=pd.concat([bitcoin,ethereum,tether,binancecoin,ripple,usdcoin,stakedether,cardano,dogecoin,solana], axis=0)\n",
    "Moneda_cap_hist['Fecha'] = pd.to_datetime(Moneda_cap_hist['Fecha'])\n",
    "Moneda_cap_hist.to_csv(\"../00 - DATA/Moneda_cap_hist.csv\",index=False)"
   ]
  },
  {
   "cell_type": "markdown",
   "metadata": {},
   "source": [
    "## 02 - Precio Historico de todas las monedas"
   ]
  },
  {
   "cell_type": "code",
   "execution_count": 5,
   "metadata": {},
   "outputs": [],
   "source": [
    "#Genero funcion llamando  a la API para obtener todos los resultados y tranformar los de UNIX\n",
    "\n",
    "def Precio(moneda):\n",
    "    globalData =  cg.get_coin_market_chart_by_id(id = moneda, \n",
    "                               vs_currency = 'usd',\n",
    "                               days = '1825')\n",
    "                               \n",
    "    lista = pd.DataFrame.from_dict(globalData ).reset_index(drop=True)\n",
    "    moneda=str(moneda)\n",
    "    lista=lista[\"prices\"]\n",
    "    df=[]\n",
    "    for i in lista:\n",
    "        i=str(i)\n",
    "        a=sacar(i)\n",
    "        df.append(a)\n",
    "    \n",
    "    df=pd.DataFrame(df)\n",
    "    df[['Fecha', 'prices']] = df[0].str.split(',', expand=True)\n",
    "    df=df[['Fecha', 'prices']]\n",
    "    df[\"Fecha\"]=df[\"Fecha\"].astype(float) \n",
    "    df[\"Fecha\"]=df[\"Fecha\"].apply(lambda x: dt.datetime.fromtimestamp(x/1000).strftime('%m-%d-%Y' ))\n",
    "    df[\"Fecha\"]=pd.to_datetime(df[\"Fecha\"])\n",
    "    df.insert(0, 'Moneda',moneda)\n",
    "    df[\"prices\"]=df[\"prices\"].replace(' None', float('nan'))\n",
    "    df[\"prices\"]=df[\"prices\"].fillna(method='ffill').fillna(method='bfill')\n",
    "    df[\"prices\"]=df[\"prices\"].astype(float).round(2)\n",
    "        \n",
    "    return df"
   ]
  },
  {
   "cell_type": "code",
   "execution_count": 6,
   "metadata": {},
   "outputs": [],
   "source": [
    "#Genero los dataframe de todas las monedas y los concateno en un solo CSV\n",
    "bitcoin=Precio(\"bitcoin\")\n",
    "ethereum=Precio(\"ethereum\")\n",
    "tether=Precio(\"tether\")\n",
    "binancecoin=Precio(\"binancecoin\")\n",
    "ripple=Precio(\"ripple\")\n",
    "usdcoin=Precio(\"usd-coin\")\n",
    "stakedether=Precio(\"staked-ether\")\n",
    "cardano=Precio(\"cardano\")\n",
    "dogecoin=Precio(\"dogecoin\")\n",
    "solana=Precio(\"solana\")\n",
    "Precio_Total=pd.concat([bitcoin,ethereum,tether,binancecoin,ripple,usdcoin,stakedether,cardano,dogecoin,solana])\n",
    "Precio_Total.to_csv(\"../00 - DATA/Precio_Total.csv\",index=False)\n"
   ]
  },
  {
   "cell_type": "code",
   "execution_count": 7,
   "metadata": {},
   "outputs": [
    {
     "name": "stdout",
     "output_type": "stream",
     "text": [
      "<class 'pandas.core.frame.DataFrame'>\n",
      "Index: 16776 entries, 0 to 1231\n",
      "Data columns (total 3 columns):\n",
      " #   Column  Non-Null Count  Dtype         \n",
      "---  ------  --------------  -----         \n",
      " 0   Moneda  16776 non-null  object        \n",
      " 1   Fecha   16776 non-null  datetime64[ns]\n",
      " 2   prices  16776 non-null  float64       \n",
      "dtypes: datetime64[ns](1), float64(1), object(1)\n",
      "memory usage: 524.2+ KB\n"
     ]
    }
   ],
   "source": [
    "Precio_Total.info()"
   ]
  },
  {
   "cell_type": "code",
   "execution_count": 8,
   "metadata": {},
   "outputs": [],
   "source": [
    "#Genero los csv de todas monedas segun el parametro de  precio\n",
    "\n",
    "moneda_precio_alto=pd.concat([bitcoin], axis=0)\n",
    "moneda_precio_alto.to_csv(\"../00 - DATA/moneda_precio_alto.csv\",index=False)\n",
    "moneda_precio_medio=pd.concat([stakedether,ethereum], axis=0)\n",
    "moneda_precio_medio.to_csv(\"../00 - DATA/moneda_precio_medio.csv\",index=False)\n",
    "moneda_precio_Bajo=pd.concat([binancecoin,solana], axis=0)\n",
    "moneda_precio_Bajo.to_csv(\"../00 - DATA/moneda_precio_Bajo.csv\",index=False)\n",
    "moneda_precio_estable=pd.concat([tether,usdcoin,ripple,cardano,dogecoin], axis=0)\n",
    "moneda_precio_estable.to_csv(\"../00 - DATA/moneda_precio_estable.csv\",index=False)"
   ]
  },
  {
   "cell_type": "code",
   "execution_count": 9,
   "metadata": {},
   "outputs": [],
   "source": [
    "\n",
    "\n",
    "\n",
    "exchgList = cg.get_exchanges_list(per_page = 250, page = 1)\n",
    "exchgDataFrame = pd.DataFrame.from_dict(exchgList\n",
    "                              ).sort_values('trade_volume_24h_btc_normalized',\n",
    "                                            ascending = False\n",
    "                              ).reset_index(drop=True)\n",
    "coinsMktDataByCategory=exchgDataFrame[[\"name\",\"country\",\"trade_volume_24h_btc_normalized\"]]\n",
    "\n",
    "Exchange=coinsMktDataByCategory.head(5)\n",
    "Exchange.to_csv(\"Exchange.csv\",index=False)\n"
   ]
  },
  {
   "cell_type": "markdown",
   "metadata": {},
   "source": [
    "## 3 - Volumen historico"
   ]
  },
  {
   "cell_type": "code",
   "execution_count": 10,
   "metadata": {},
   "outputs": [],
   "source": [
    "# Generamos la funcion para extraer los volumnes historico\n",
    "\n",
    "def volumen(moneda):\n",
    "    globalData =  cg.get_coin_market_chart_by_id(id = moneda, \n",
    "                               vs_currency = 'usd',\n",
    "                               days = '1825')\n",
    "                               \n",
    "    lista = pd.DataFrame.from_dict(globalData ).reset_index(drop=True)\n",
    "    moneda=str(moneda)\n",
    "    lista=lista[\"prices\"]\n",
    "    df=[]\n",
    "    for i in lista:\n",
    "        i=str(i)\n",
    "        a=sacar(i)\n",
    "        df.append(a)\n",
    "    #En esta funcion separo y convierto los datos en varibles para poder trabajarcon ellos\n",
    "    df=pd.DataFrame(df)\n",
    "    df[['Fecha', 'total_volumes']] = df[0].str.split(',', expand=True)\n",
    "    df=df[['Fecha', 'total_volumes']]\n",
    "    df[\"Fecha\"]=df[\"Fecha\"].astype(float) \n",
    "    #Convierto en Fecha los Datos en UNIX\n",
    "    df[\"Fecha\"]=df[\"Fecha\"].apply(lambda x: dt.datetime.fromtimestamp(x/1000).strftime('%m-%d-%Y' ))\n",
    "    df[\"Fecha\"]=pd.to_datetime(df[\"Fecha\"])\n",
    "    df.insert(0, 'Moneda',moneda)\n",
    "    #Convierto los datos Faltantes en la media de la variable anterior y la posterior\n",
    "    df[\"total_volumes\"]=df[\"total_volumes\"].replace(' None', float('nan'))\n",
    "    df[\"total_volumes\"]=df[\"total_volumes\"].fillna(method='ffill').fillna(method='bfill')\n",
    "    df[\"total_volumes\"]=df[\"total_volumes\"].astype(float).round(2)\n",
    "        \n",
    "    return df"
   ]
  },
  {
   "cell_type": "code",
   "execution_count": 11,
   "metadata": {},
   "outputs": [],
   "source": [
    "# Genero los dataframe de las monedas y Genero el csv.-\n",
    "\n",
    "bitcoin=volumen(\"bitcoin\")\n",
    "ethereum=volumen(\"ethereum\")\n",
    "tether=volumen(\"tether\")\n",
    "binancecoin=volumen(\"binancecoin\")\n",
    "ripple=volumen(\"ripple\")\n",
    "usdcoin=volumen(\"usd-coin\")\n",
    "stakedether=volumen(\"staked-ether\")\n",
    "cardano=volumen(\"cardano\")\n",
    "dogecoin=volumen(\"dogecoin\")\n",
    "solana=volumen(\"solana\")\n",
    "volumen=pd.concat([bitcoin,ethereum,tether,binancecoin,ripple,usdcoin,stakedether,cardano,dogecoin,solana], axis=0)\n",
    "volumen.to_csv(\"../00 - DATA/volumen.csv\",index=False)"
   ]
  },
  {
   "cell_type": "markdown",
   "metadata": {},
   "source": [
    "## 4 - Exchange "
   ]
  },
  {
   "cell_type": "code",
   "execution_count": 12,
   "metadata": {},
   "outputs": [],
   "source": [
    "\n",
    "\n",
    "exchgList = cg.get_exchanges_list(per_page = 250, page = 1)\n",
    "exchgDataFrame = pd.DataFrame.from_dict(exchgList\n",
    "                              ).sort_values('trade_volume_24h_btc_normalized',\n",
    "                                            ascending = False\n",
    "                              ).reset_index(drop=True)\n",
    "coinsMktDataByCategory=exchgDataFrame[[\"name\",\"country\",\"trade_volume_24h_btc_normalized\"]]\n",
    "\n",
    "Exchange=coinsMktDataByCategory.head(5)\n",
    "Exchange.to_csv(\"../00 - DATA/Exchange.csv\",index=False)\n"
   ]
  }
 ],
 "metadata": {
  "kernelspec": {
   "display_name": "henry",
   "language": "python",
   "name": "python3"
  },
  "language_info": {
   "codemirror_mode": {
    "name": "ipython",
    "version": 3
   },
   "file_extension": ".py",
   "mimetype": "text/x-python",
   "name": "python",
   "nbconvert_exporter": "python",
   "pygments_lexer": "ipython3",
   "version": "3.11.4"
  },
  "orig_nbformat": 4
 },
 "nbformat": 4,
 "nbformat_minor": 2
}
